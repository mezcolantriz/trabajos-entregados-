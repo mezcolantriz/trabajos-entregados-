{
 "cells": [
  {
   "cell_type": "code",
   "execution_count": 11,
   "id": "e1584209",
   "metadata": {},
   "outputs": [],
   "source": [
    "# Definir cada ejercicio como una variable con (total, entregados) - NO ESTAMOS CONTANDO A PABLO\n",
    "pandas = (11, 11)\n",
    "visualizacion = (11, 10)\n",
    "sql = (11, 9)\n",
    "scraping = (11, 10)\n",
    "api = (11, 10)   # tomas e iddaly no se modifica la rama 09/06\n",
    "probabilidad = (11, 7)\n",
    "\n",
    "ejercicios = [\n",
    "    (\"Pandas\", *pandas),\n",
    "    (\"Visualización\", *visualizacion),\n",
    "    (\"SQL\", *sql),\n",
    "    (\"Scraping\", *scraping),\n",
    "    (\"API\", *api),\n",
    "    (\"Probabilidad\", *probabilidad)\n",
    "]\n"
   ]
  },
  {
   "cell_type": "code",
   "execution_count": 12,
   "id": "42900465",
   "metadata": {},
   "outputs": [
    {
     "name": "stdout",
     "output_type": "stream",
     "text": [
      "📊 Porcentaje de entregas por ejercicio:\n",
      "\n",
      "- Pandas: 100.0% entregado (11 de 11)\n",
      "- Visualización: 90.9% entregado (10 de 11)\n",
      "- SQL: 81.8% entregado (9 de 11)\n",
      "- Scraping: 90.9% entregado (10 de 11)\n",
      "- API: 90.9% entregado (10 de 11)\n",
      "- Probabilidad: 63.6% entregado (7 de 11)\n",
      "\n",
      "📈 Promedio general de entregas: 86.36%\n"
     ]
    }
   ],
   "source": [
    "def calcular_porcentajes_y_promedio(ejercicios):\n",
    "    print(\"📊 Porcentaje de entregas por ejercicio:\\n\")\n",
    "    total_porcentajes = 0\n",
    "    \n",
    "    for nombre, total, entregados in ejercicios:\n",
    "        if total == 0:\n",
    "            print(f\"{nombre}: ⚠️ No inicializado, ¿total alumnos 0?\")\n",
    "            continue\n",
    "        porcentaje = (entregados / total) * 100\n",
    "        total_porcentajes += porcentaje\n",
    "        print(f\"- {nombre}: {porcentaje:.1f}% entregado ({entregados} de {total})\")\n",
    "    \n",
    "    promedio = total_porcentajes / len(ejercicios)\n",
    "    print(f\"\\n📈 Promedio general de entregas: {promedio:.2f}%\")\n",
    "\n",
    "# Ejecutar\n",
    "calcular_porcentajes_y_promedio(ejercicios)\n"
   ]
  }
 ],
 "metadata": {
  "kernelspec": {
   "display_name": "base",
   "language": "python",
   "name": "python3"
  },
  "language_info": {
   "codemirror_mode": {
    "name": "ipython",
    "version": 3
   },
   "file_extension": ".py",
   "mimetype": "text/x-python",
   "name": "python",
   "nbconvert_exporter": "python",
   "pygments_lexer": "ipython3",
   "version": "3.12.7"
  }
 },
 "nbformat": 4,
 "nbformat_minor": 5
}
